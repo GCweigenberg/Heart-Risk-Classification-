{
 "cells": [
  {
   "cell_type": "code",
   "execution_count": 1,
   "metadata": {
    "id": "IbjkfgP43XPi"
   },
   "outputs": [],
   "source": [
    "# Import the modules\n",
    "import pandas as pd\n",
    "from sklearn.model_selection import train_test_split\n",
    "from sklearn.preprocessing import StandardScaler\n",
    "from sklearn.ensemble import RandomForestClassifier\n",
    "from sklearn.metrics import confusion_matrix, accuracy_score, classification_report, balanced_accuracy_score\n",
    "from imblearn.ensemble import BalancedRandomForestClassifier\n",
    "from imblearn.metrics import classification_report_imbalanced\n",
    "from imblearn.over_sampling import RandomOverSampler\n",
    "import joblib\n",
    "import warnings\n",
    "warnings.filterwarnings('ignore')"
   ]
  },
  {
   "cell_type": "markdown",
   "metadata": {
    "id": "FpNYQscs8use"
   },
   "source": [
    "# Loading and Preprocessing Data"
   ]
  },
  {
   "cell_type": "code",
   "execution_count": 2,
   "metadata": {
    "colab": {
     "base_uri": "https://localhost:8080/",
     "height": 206
    },
    "id": "6fWlNuNY3XPk",
    "outputId": "45ef8d2e-4d21-4f92-b840-38d4400bab5e"
   },
   "outputs": [
    {
     "data": {
      "text/html": [
       "<div>\n",
       "<style scoped>\n",
       "    .dataframe tbody tr th:only-of-type {\n",
       "        vertical-align: middle;\n",
       "    }\n",
       "\n",
       "    .dataframe tbody tr th {\n",
       "        vertical-align: top;\n",
       "    }\n",
       "\n",
       "    .dataframe thead th {\n",
       "        text-align: right;\n",
       "    }\n",
       "</style>\n",
       "<table border=\"1\" class=\"dataframe\">\n",
       "  <thead>\n",
       "    <tr style=\"text-align: right;\">\n",
       "      <th></th>\n",
       "      <th>HeartDisease</th>\n",
       "      <th>BMI</th>\n",
       "      <th>Smoking</th>\n",
       "      <th>AlcoholDrinking</th>\n",
       "      <th>Stroke</th>\n",
       "      <th>PhysicalHealth</th>\n",
       "      <th>MentalHealth</th>\n",
       "      <th>DiffWalking</th>\n",
       "      <th>Sex</th>\n",
       "      <th>AgeCategory</th>\n",
       "      <th>Race</th>\n",
       "      <th>Diabetic</th>\n",
       "      <th>PhysicalActivity</th>\n",
       "      <th>GenHealth</th>\n",
       "      <th>SleepTime</th>\n",
       "      <th>Asthma</th>\n",
       "      <th>KidneyDisease</th>\n",
       "      <th>SkinCancer</th>\n",
       "    </tr>\n",
       "  </thead>\n",
       "  <tbody>\n",
       "    <tr>\n",
       "      <th>0</th>\n",
       "      <td>No</td>\n",
       "      <td>16.60</td>\n",
       "      <td>Yes</td>\n",
       "      <td>No</td>\n",
       "      <td>No</td>\n",
       "      <td>3.0</td>\n",
       "      <td>30.0</td>\n",
       "      <td>No</td>\n",
       "      <td>Female</td>\n",
       "      <td>55-59</td>\n",
       "      <td>White</td>\n",
       "      <td>Yes</td>\n",
       "      <td>Yes</td>\n",
       "      <td>Very good</td>\n",
       "      <td>5.0</td>\n",
       "      <td>Yes</td>\n",
       "      <td>No</td>\n",
       "      <td>Yes</td>\n",
       "    </tr>\n",
       "    <tr>\n",
       "      <th>1</th>\n",
       "      <td>No</td>\n",
       "      <td>20.34</td>\n",
       "      <td>No</td>\n",
       "      <td>No</td>\n",
       "      <td>Yes</td>\n",
       "      <td>0.0</td>\n",
       "      <td>0.0</td>\n",
       "      <td>No</td>\n",
       "      <td>Female</td>\n",
       "      <td>80 or older</td>\n",
       "      <td>White</td>\n",
       "      <td>No</td>\n",
       "      <td>Yes</td>\n",
       "      <td>Very good</td>\n",
       "      <td>7.0</td>\n",
       "      <td>No</td>\n",
       "      <td>No</td>\n",
       "      <td>No</td>\n",
       "    </tr>\n",
       "    <tr>\n",
       "      <th>2</th>\n",
       "      <td>No</td>\n",
       "      <td>26.58</td>\n",
       "      <td>Yes</td>\n",
       "      <td>No</td>\n",
       "      <td>No</td>\n",
       "      <td>20.0</td>\n",
       "      <td>30.0</td>\n",
       "      <td>No</td>\n",
       "      <td>Male</td>\n",
       "      <td>65-69</td>\n",
       "      <td>White</td>\n",
       "      <td>Yes</td>\n",
       "      <td>Yes</td>\n",
       "      <td>Fair</td>\n",
       "      <td>8.0</td>\n",
       "      <td>Yes</td>\n",
       "      <td>No</td>\n",
       "      <td>No</td>\n",
       "    </tr>\n",
       "    <tr>\n",
       "      <th>3</th>\n",
       "      <td>No</td>\n",
       "      <td>24.21</td>\n",
       "      <td>No</td>\n",
       "      <td>No</td>\n",
       "      <td>No</td>\n",
       "      <td>0.0</td>\n",
       "      <td>0.0</td>\n",
       "      <td>No</td>\n",
       "      <td>Female</td>\n",
       "      <td>75-79</td>\n",
       "      <td>White</td>\n",
       "      <td>No</td>\n",
       "      <td>No</td>\n",
       "      <td>Good</td>\n",
       "      <td>6.0</td>\n",
       "      <td>No</td>\n",
       "      <td>No</td>\n",
       "      <td>Yes</td>\n",
       "    </tr>\n",
       "    <tr>\n",
       "      <th>4</th>\n",
       "      <td>No</td>\n",
       "      <td>23.71</td>\n",
       "      <td>No</td>\n",
       "      <td>No</td>\n",
       "      <td>No</td>\n",
       "      <td>28.0</td>\n",
       "      <td>0.0</td>\n",
       "      <td>Yes</td>\n",
       "      <td>Female</td>\n",
       "      <td>40-44</td>\n",
       "      <td>White</td>\n",
       "      <td>No</td>\n",
       "      <td>Yes</td>\n",
       "      <td>Very good</td>\n",
       "      <td>8.0</td>\n",
       "      <td>No</td>\n",
       "      <td>No</td>\n",
       "      <td>No</td>\n",
       "    </tr>\n",
       "  </tbody>\n",
       "</table>\n",
       "</div>"
      ],
      "text/plain": [
       "  HeartDisease    BMI Smoking AlcoholDrinking Stroke  PhysicalHealth  \\\n",
       "0           No  16.60     Yes              No     No             3.0   \n",
       "1           No  20.34      No              No    Yes             0.0   \n",
       "2           No  26.58     Yes              No     No            20.0   \n",
       "3           No  24.21      No              No     No             0.0   \n",
       "4           No  23.71      No              No     No            28.0   \n",
       "\n",
       "   MentalHealth DiffWalking     Sex  AgeCategory   Race Diabetic  \\\n",
       "0          30.0          No  Female        55-59  White      Yes   \n",
       "1           0.0          No  Female  80 or older  White       No   \n",
       "2          30.0          No    Male        65-69  White      Yes   \n",
       "3           0.0          No  Female        75-79  White       No   \n",
       "4           0.0         Yes  Female        40-44  White       No   \n",
       "\n",
       "  PhysicalActivity  GenHealth  SleepTime Asthma KidneyDisease SkinCancer  \n",
       "0              Yes  Very good        5.0    Yes            No        Yes  \n",
       "1              Yes  Very good        7.0     No            No         No  \n",
       "2              Yes       Fair        8.0    Yes            No         No  \n",
       "3               No       Good        6.0     No            No        Yes  \n",
       "4              Yes  Very good        8.0     No            No         No  "
      ]
     },
     "execution_count": 2,
     "metadata": {},
     "output_type": "execute_result"
    }
   ],
   "source": [
    "# Read in CSV\n",
    "df = pd.read_csv('heart_2020_cleaned.csv')\n",
    "df.head()"
   ]
  },
  {
   "cell_type": "code",
   "execution_count": 3,
   "metadata": {
    "colab": {
     "base_uri": "https://localhost:8080/"
    },
    "id": "rUjMa2tr3XPk",
    "outputId": "cf5344e3-8c11-4a80-83ce-9756f8f892f0",
    "scrolled": true
   },
   "outputs": [
    {
     "data": {
      "text/plain": [
       "HeartDisease         object\n",
       "BMI                 float64\n",
       "Smoking              object\n",
       "AlcoholDrinking      object\n",
       "Stroke               object\n",
       "PhysicalHealth      float64\n",
       "MentalHealth        float64\n",
       "DiffWalking          object\n",
       "Sex                  object\n",
       "AgeCategory          object\n",
       "Race                 object\n",
       "Diabetic             object\n",
       "PhysicalActivity     object\n",
       "GenHealth            object\n",
       "SleepTime           float64\n",
       "Asthma               object\n",
       "KidneyDisease        object\n",
       "SkinCancer           object\n",
       "dtype: object"
      ]
     },
     "execution_count": 3,
     "metadata": {},
     "output_type": "execute_result"
    }
   ],
   "source": [
    "# Check data types\n",
    "df.dtypes"
   ]
  },
  {
   "cell_type": "code",
   "execution_count": 4,
   "metadata": {
    "colab": {
     "base_uri": "https://localhost:8080/",
     "height": 317
    },
    "id": "Ufp_8WQS3XPk",
    "outputId": "8dacc6a8-d81b-4d5f-dd16-2de73ef09081",
    "scrolled": false
   },
   "outputs": [
    {
     "data": {
      "text/html": [
       "<div>\n",
       "<style scoped>\n",
       "    .dataframe tbody tr th:only-of-type {\n",
       "        vertical-align: middle;\n",
       "    }\n",
       "\n",
       "    .dataframe tbody tr th {\n",
       "        vertical-align: top;\n",
       "    }\n",
       "\n",
       "    .dataframe thead th {\n",
       "        text-align: right;\n",
       "    }\n",
       "</style>\n",
       "<table border=\"1\" class=\"dataframe\">\n",
       "  <thead>\n",
       "    <tr style=\"text-align: right;\">\n",
       "      <th></th>\n",
       "      <th>BMI</th>\n",
       "      <th>PhysicalHealth</th>\n",
       "      <th>MentalHealth</th>\n",
       "      <th>SleepTime</th>\n",
       "      <th>HeartDisease_Yes</th>\n",
       "      <th>Smoking_Yes</th>\n",
       "      <th>AlcoholDrinking_Yes</th>\n",
       "      <th>Stroke_Yes</th>\n",
       "      <th>DiffWalking_Yes</th>\n",
       "      <th>Sex_Female</th>\n",
       "      <th>...</th>\n",
       "      <th>Diabetic_Yes</th>\n",
       "      <th>PhysicalActivity_Yes</th>\n",
       "      <th>GenHealth_Excellent</th>\n",
       "      <th>GenHealth_Fair</th>\n",
       "      <th>GenHealth_Good</th>\n",
       "      <th>GenHealth_Poor</th>\n",
       "      <th>GenHealth_Very good</th>\n",
       "      <th>Asthma_Yes</th>\n",
       "      <th>KidneyDisease_Yes</th>\n",
       "      <th>SkinCancer_Yes</th>\n",
       "    </tr>\n",
       "  </thead>\n",
       "  <tbody>\n",
       "    <tr>\n",
       "      <th>0</th>\n",
       "      <td>16.60</td>\n",
       "      <td>3.0</td>\n",
       "      <td>30.0</td>\n",
       "      <td>5.0</td>\n",
       "      <td>0</td>\n",
       "      <td>1</td>\n",
       "      <td>0</td>\n",
       "      <td>0</td>\n",
       "      <td>0</td>\n",
       "      <td>1</td>\n",
       "      <td>...</td>\n",
       "      <td>1</td>\n",
       "      <td>1</td>\n",
       "      <td>0</td>\n",
       "      <td>0</td>\n",
       "      <td>0</td>\n",
       "      <td>0</td>\n",
       "      <td>1</td>\n",
       "      <td>1</td>\n",
       "      <td>0</td>\n",
       "      <td>1</td>\n",
       "    </tr>\n",
       "    <tr>\n",
       "      <th>1</th>\n",
       "      <td>20.34</td>\n",
       "      <td>0.0</td>\n",
       "      <td>0.0</td>\n",
       "      <td>7.0</td>\n",
       "      <td>0</td>\n",
       "      <td>0</td>\n",
       "      <td>0</td>\n",
       "      <td>1</td>\n",
       "      <td>0</td>\n",
       "      <td>1</td>\n",
       "      <td>...</td>\n",
       "      <td>0</td>\n",
       "      <td>1</td>\n",
       "      <td>0</td>\n",
       "      <td>0</td>\n",
       "      <td>0</td>\n",
       "      <td>0</td>\n",
       "      <td>1</td>\n",
       "      <td>0</td>\n",
       "      <td>0</td>\n",
       "      <td>0</td>\n",
       "    </tr>\n",
       "    <tr>\n",
       "      <th>2</th>\n",
       "      <td>26.58</td>\n",
       "      <td>20.0</td>\n",
       "      <td>30.0</td>\n",
       "      <td>8.0</td>\n",
       "      <td>0</td>\n",
       "      <td>1</td>\n",
       "      <td>0</td>\n",
       "      <td>0</td>\n",
       "      <td>0</td>\n",
       "      <td>0</td>\n",
       "      <td>...</td>\n",
       "      <td>1</td>\n",
       "      <td>1</td>\n",
       "      <td>0</td>\n",
       "      <td>1</td>\n",
       "      <td>0</td>\n",
       "      <td>0</td>\n",
       "      <td>0</td>\n",
       "      <td>1</td>\n",
       "      <td>0</td>\n",
       "      <td>0</td>\n",
       "    </tr>\n",
       "    <tr>\n",
       "      <th>3</th>\n",
       "      <td>24.21</td>\n",
       "      <td>0.0</td>\n",
       "      <td>0.0</td>\n",
       "      <td>6.0</td>\n",
       "      <td>0</td>\n",
       "      <td>0</td>\n",
       "      <td>0</td>\n",
       "      <td>0</td>\n",
       "      <td>0</td>\n",
       "      <td>1</td>\n",
       "      <td>...</td>\n",
       "      <td>0</td>\n",
       "      <td>0</td>\n",
       "      <td>0</td>\n",
       "      <td>0</td>\n",
       "      <td>1</td>\n",
       "      <td>0</td>\n",
       "      <td>0</td>\n",
       "      <td>0</td>\n",
       "      <td>0</td>\n",
       "      <td>1</td>\n",
       "    </tr>\n",
       "    <tr>\n",
       "      <th>4</th>\n",
       "      <td>23.71</td>\n",
       "      <td>28.0</td>\n",
       "      <td>0.0</td>\n",
       "      <td>8.0</td>\n",
       "      <td>0</td>\n",
       "      <td>0</td>\n",
       "      <td>0</td>\n",
       "      <td>0</td>\n",
       "      <td>1</td>\n",
       "      <td>1</td>\n",
       "      <td>...</td>\n",
       "      <td>0</td>\n",
       "      <td>1</td>\n",
       "      <td>0</td>\n",
       "      <td>0</td>\n",
       "      <td>0</td>\n",
       "      <td>0</td>\n",
       "      <td>1</td>\n",
       "      <td>0</td>\n",
       "      <td>0</td>\n",
       "      <td>0</td>\n",
       "    </tr>\n",
       "  </tbody>\n",
       "</table>\n",
       "<p>5 rows × 40 columns</p>\n",
       "</div>"
      ],
      "text/plain": [
       "     BMI  PhysicalHealth  MentalHealth  SleepTime  HeartDisease_Yes  \\\n",
       "0  16.60             3.0          30.0        5.0                 0   \n",
       "1  20.34             0.0           0.0        7.0                 0   \n",
       "2  26.58            20.0          30.0        8.0                 0   \n",
       "3  24.21             0.0           0.0        6.0                 0   \n",
       "4  23.71            28.0           0.0        8.0                 0   \n",
       "\n",
       "   Smoking_Yes  AlcoholDrinking_Yes  Stroke_Yes  DiffWalking_Yes  Sex_Female  \\\n",
       "0            1                    0           0                0           1   \n",
       "1            0                    0           1                0           1   \n",
       "2            1                    0           0                0           0   \n",
       "3            0                    0           0                0           1   \n",
       "4            0                    0           0                1           1   \n",
       "\n",
       "   ...  Diabetic_Yes  PhysicalActivity_Yes  GenHealth_Excellent  \\\n",
       "0  ...             1                     1                    0   \n",
       "1  ...             0                     1                    0   \n",
       "2  ...             1                     1                    0   \n",
       "3  ...             0                     0                    0   \n",
       "4  ...             0                     1                    0   \n",
       "\n",
       "   GenHealth_Fair  GenHealth_Good  GenHealth_Poor  GenHealth_Very good  \\\n",
       "0               0               0               0                    1   \n",
       "1               0               0               0                    1   \n",
       "2               1               0               0                    0   \n",
       "3               0               1               0                    0   \n",
       "4               0               0               0                    1   \n",
       "\n",
       "   Asthma_Yes  KidneyDisease_Yes  SkinCancer_Yes  \n",
       "0           1                  0               1  \n",
       "1           0                  0               0  \n",
       "2           1                  0               0  \n",
       "3           0                  0               1  \n",
       "4           0                  0               0  \n",
       "\n",
       "[5 rows x 40 columns]"
      ]
     },
     "execution_count": 4,
     "metadata": {},
     "output_type": "execute_result"
    }
   ],
   "source": [
    "# Create dummy variables\n",
    "dummies_df = pd.get_dummies(df)\n",
    "\n",
    "# Drop columns to limit repetitive features\n",
    "dummies_df = dummies_df.drop(columns=['HeartDisease_No', 'Smoking_No', 'AlcoholDrinking_No', 'Stroke_No',\n",
    "                                      'DiffWalking_No', 'Diabetic_No', 'Diabetic_No, borderline diabetes', 'Diabetic_Yes (during pregnancy)',\n",
    "                                     'PhysicalActivity_No', 'Asthma_No', 'KidneyDisease_No', 'SkinCancer_No'])\n",
    "dummies_df.head()"
   ]
  },
  {
   "cell_type": "code",
   "execution_count": 5,
   "metadata": {
    "colab": {
     "base_uri": "https://localhost:8080/",
     "height": 317
    },
    "id": "LaVf1Dlj3XPl",
    "outputId": "f9b794ec-5805-438e-acfc-b52e82faf72e"
   },
   "outputs": [
    {
     "data": {
      "text/html": [
       "<div>\n",
       "<style scoped>\n",
       "    .dataframe tbody tr th:only-of-type {\n",
       "        vertical-align: middle;\n",
       "    }\n",
       "\n",
       "    .dataframe tbody tr th {\n",
       "        vertical-align: top;\n",
       "    }\n",
       "\n",
       "    .dataframe thead th {\n",
       "        text-align: right;\n",
       "    }\n",
       "</style>\n",
       "<table border=\"1\" class=\"dataframe\">\n",
       "  <thead>\n",
       "    <tr style=\"text-align: right;\">\n",
       "      <th></th>\n",
       "      <th>BMI</th>\n",
       "      <th>PhysicalHealth</th>\n",
       "      <th>MentalHealth</th>\n",
       "      <th>SleepTime</th>\n",
       "      <th>Smoking_Yes</th>\n",
       "      <th>AlcoholDrinking_Yes</th>\n",
       "      <th>Stroke_Yes</th>\n",
       "      <th>DiffWalking_Yes</th>\n",
       "      <th>Sex_Female</th>\n",
       "      <th>Sex_Male</th>\n",
       "      <th>...</th>\n",
       "      <th>Diabetic_Yes</th>\n",
       "      <th>PhysicalActivity_Yes</th>\n",
       "      <th>GenHealth_Excellent</th>\n",
       "      <th>GenHealth_Fair</th>\n",
       "      <th>GenHealth_Good</th>\n",
       "      <th>GenHealth_Poor</th>\n",
       "      <th>GenHealth_Very good</th>\n",
       "      <th>Asthma_Yes</th>\n",
       "      <th>KidneyDisease_Yes</th>\n",
       "      <th>SkinCancer_Yes</th>\n",
       "    </tr>\n",
       "  </thead>\n",
       "  <tbody>\n",
       "    <tr>\n",
       "      <th>0</th>\n",
       "      <td>16.60</td>\n",
       "      <td>3.0</td>\n",
       "      <td>30.0</td>\n",
       "      <td>5.0</td>\n",
       "      <td>1</td>\n",
       "      <td>0</td>\n",
       "      <td>0</td>\n",
       "      <td>0</td>\n",
       "      <td>1</td>\n",
       "      <td>0</td>\n",
       "      <td>...</td>\n",
       "      <td>1</td>\n",
       "      <td>1</td>\n",
       "      <td>0</td>\n",
       "      <td>0</td>\n",
       "      <td>0</td>\n",
       "      <td>0</td>\n",
       "      <td>1</td>\n",
       "      <td>1</td>\n",
       "      <td>0</td>\n",
       "      <td>1</td>\n",
       "    </tr>\n",
       "    <tr>\n",
       "      <th>1</th>\n",
       "      <td>20.34</td>\n",
       "      <td>0.0</td>\n",
       "      <td>0.0</td>\n",
       "      <td>7.0</td>\n",
       "      <td>0</td>\n",
       "      <td>0</td>\n",
       "      <td>1</td>\n",
       "      <td>0</td>\n",
       "      <td>1</td>\n",
       "      <td>0</td>\n",
       "      <td>...</td>\n",
       "      <td>0</td>\n",
       "      <td>1</td>\n",
       "      <td>0</td>\n",
       "      <td>0</td>\n",
       "      <td>0</td>\n",
       "      <td>0</td>\n",
       "      <td>1</td>\n",
       "      <td>0</td>\n",
       "      <td>0</td>\n",
       "      <td>0</td>\n",
       "    </tr>\n",
       "    <tr>\n",
       "      <th>2</th>\n",
       "      <td>26.58</td>\n",
       "      <td>20.0</td>\n",
       "      <td>30.0</td>\n",
       "      <td>8.0</td>\n",
       "      <td>1</td>\n",
       "      <td>0</td>\n",
       "      <td>0</td>\n",
       "      <td>0</td>\n",
       "      <td>0</td>\n",
       "      <td>1</td>\n",
       "      <td>...</td>\n",
       "      <td>1</td>\n",
       "      <td>1</td>\n",
       "      <td>0</td>\n",
       "      <td>1</td>\n",
       "      <td>0</td>\n",
       "      <td>0</td>\n",
       "      <td>0</td>\n",
       "      <td>1</td>\n",
       "      <td>0</td>\n",
       "      <td>0</td>\n",
       "    </tr>\n",
       "    <tr>\n",
       "      <th>3</th>\n",
       "      <td>24.21</td>\n",
       "      <td>0.0</td>\n",
       "      <td>0.0</td>\n",
       "      <td>6.0</td>\n",
       "      <td>0</td>\n",
       "      <td>0</td>\n",
       "      <td>0</td>\n",
       "      <td>0</td>\n",
       "      <td>1</td>\n",
       "      <td>0</td>\n",
       "      <td>...</td>\n",
       "      <td>0</td>\n",
       "      <td>0</td>\n",
       "      <td>0</td>\n",
       "      <td>0</td>\n",
       "      <td>1</td>\n",
       "      <td>0</td>\n",
       "      <td>0</td>\n",
       "      <td>0</td>\n",
       "      <td>0</td>\n",
       "      <td>1</td>\n",
       "    </tr>\n",
       "    <tr>\n",
       "      <th>4</th>\n",
       "      <td>23.71</td>\n",
       "      <td>28.0</td>\n",
       "      <td>0.0</td>\n",
       "      <td>8.0</td>\n",
       "      <td>0</td>\n",
       "      <td>0</td>\n",
       "      <td>0</td>\n",
       "      <td>1</td>\n",
       "      <td>1</td>\n",
       "      <td>0</td>\n",
       "      <td>...</td>\n",
       "      <td>0</td>\n",
       "      <td>1</td>\n",
       "      <td>0</td>\n",
       "      <td>0</td>\n",
       "      <td>0</td>\n",
       "      <td>0</td>\n",
       "      <td>1</td>\n",
       "      <td>0</td>\n",
       "      <td>0</td>\n",
       "      <td>0</td>\n",
       "    </tr>\n",
       "  </tbody>\n",
       "</table>\n",
       "<p>5 rows × 39 columns</p>\n",
       "</div>"
      ],
      "text/plain": [
       "     BMI  PhysicalHealth  MentalHealth  SleepTime  Smoking_Yes  \\\n",
       "0  16.60             3.0          30.0        5.0            1   \n",
       "1  20.34             0.0           0.0        7.0            0   \n",
       "2  26.58            20.0          30.0        8.0            1   \n",
       "3  24.21             0.0           0.0        6.0            0   \n",
       "4  23.71            28.0           0.0        8.0            0   \n",
       "\n",
       "   AlcoholDrinking_Yes  Stroke_Yes  DiffWalking_Yes  Sex_Female  Sex_Male  \\\n",
       "0                    0           0                0           1         0   \n",
       "1                    0           1                0           1         0   \n",
       "2                    0           0                0           0         1   \n",
       "3                    0           0                0           1         0   \n",
       "4                    0           0                1           1         0   \n",
       "\n",
       "   ...  Diabetic_Yes  PhysicalActivity_Yes  GenHealth_Excellent  \\\n",
       "0  ...             1                     1                    0   \n",
       "1  ...             0                     1                    0   \n",
       "2  ...             1                     1                    0   \n",
       "3  ...             0                     0                    0   \n",
       "4  ...             0                     1                    0   \n",
       "\n",
       "   GenHealth_Fair  GenHealth_Good  GenHealth_Poor  GenHealth_Very good  \\\n",
       "0               0               0               0                    1   \n",
       "1               0               0               0                    1   \n",
       "2               1               0               0                    0   \n",
       "3               0               1               0                    0   \n",
       "4               0               0               0                    1   \n",
       "\n",
       "   Asthma_Yes  KidneyDisease_Yes  SkinCancer_Yes  \n",
       "0           1                  0               1  \n",
       "1           0                  0               0  \n",
       "2           1                  0               0  \n",
       "3           0                  0               1  \n",
       "4           0                  0               0  \n",
       "\n",
       "[5 rows x 39 columns]"
      ]
     },
     "execution_count": 5,
     "metadata": {},
     "output_type": "execute_result"
    }
   ],
   "source": [
    "# Define features set\n",
    "X = dummies_df.copy()\n",
    "X.drop(\"HeartDisease_Yes\", axis=1, inplace=True)\n",
    "X.head()"
   ]
  },
  {
   "cell_type": "code",
   "execution_count": 6,
   "metadata": {
    "id": "icHZ2RpV3XPl"
   },
   "outputs": [],
   "source": [
    "# Define target vector \n",
    "y = dummies_df[\"HeartDisease_Yes\"].ravel()"
   ]
  },
  {
   "cell_type": "code",
   "execution_count": 7,
   "metadata": {
    "id": "YfEADWYF3XPl"
   },
   "outputs": [],
   "source": [
    "# Split into Train and Test sets\n",
    "X_train, X_test, y_train, y_test = train_test_split(X, y, random_state=42, stratify=y)"
   ]
  },
  {
   "cell_type": "code",
   "execution_count": 8,
   "metadata": {
    "id": "lIt1Ki7N3XPm"
   },
   "outputs": [],
   "source": [
    "# Fit to StandardScaler\n",
    "scaler = StandardScaler()\n",
    "X_scaler = scaler.fit(X_train)\n",
    "\n",
    "# Scale data\n",
    "X_train_scaled = X_scaler.transform(X_train)\n",
    "X_test_scaled = X_scaler.transform(X_test)"
   ]
  },
  {
   "cell_type": "markdown",
   "metadata": {
    "id": "DEBpbZxSnCM6"
   },
   "source": [
    "# Random Forest Model"
   ]
  },
  {
   "cell_type": "code",
   "execution_count": 9,
   "metadata": {
    "id": "uYcqlMsy3XPm"
   },
   "outputs": [],
   "source": [
    "# Create a random forest classifier \n",
    "rf_model = RandomForestClassifier(n_estimators=300, random_state=42)\n",
    "\n",
    "# Fit the model\n",
    "rf_model = rf_model.fit(X_train_scaled, y_train)\n",
    "\n",
    "# Make prediction using the test data\n",
    "predictions = rf_model.predict(X_test_scaled)"
   ]
  },
  {
   "cell_type": "code",
   "execution_count": 10,
   "metadata": {
    "colab": {
     "base_uri": "https://localhost:8080/",
     "height": 320
    },
    "id": "C2KBNUHm3XPm",
    "outputId": "9bab6a8a-c2ed-48ac-dcc7-5d19a45c656c"
   },
   "outputs": [
    {
     "name": "stdout",
     "output_type": "stream",
     "text": [
      "Confusion Matrix\n"
     ]
    },
    {
     "data": {
      "text/html": [
       "<div>\n",
       "<style scoped>\n",
       "    .dataframe tbody tr th:only-of-type {\n",
       "        vertical-align: middle;\n",
       "    }\n",
       "\n",
       "    .dataframe tbody tr th {\n",
       "        vertical-align: top;\n",
       "    }\n",
       "\n",
       "    .dataframe thead th {\n",
       "        text-align: right;\n",
       "    }\n",
       "</style>\n",
       "<table border=\"1\" class=\"dataframe\">\n",
       "  <thead>\n",
       "    <tr style=\"text-align: right;\">\n",
       "      <th></th>\n",
       "      <th>Predicted 0</th>\n",
       "      <th>Predicted 1</th>\n",
       "    </tr>\n",
       "  </thead>\n",
       "  <tbody>\n",
       "    <tr>\n",
       "      <th>Actual 0</th>\n",
       "      <td>71414</td>\n",
       "      <td>1692</td>\n",
       "    </tr>\n",
       "    <tr>\n",
       "      <th>Actual 1</th>\n",
       "      <td>6049</td>\n",
       "      <td>794</td>\n",
       "    </tr>\n",
       "  </tbody>\n",
       "</table>\n",
       "</div>"
      ],
      "text/plain": [
       "          Predicted 0  Predicted 1\n",
       "Actual 0        71414         1692\n",
       "Actual 1         6049          794"
      ]
     },
     "metadata": {},
     "output_type": "display_data"
    },
    {
     "name": "stdout",
     "output_type": "stream",
     "text": [
      "Accuracy Score : 0.9031757745562796\n",
      "Classification Report\n",
      "              precision    recall  f1-score   support\n",
      "\n",
      "           0       0.92      0.98      0.95     73106\n",
      "           1       0.32      0.12      0.17      6843\n",
      "\n",
      "    accuracy                           0.90     79949\n",
      "   macro avg       0.62      0.55      0.56     79949\n",
      "weighted avg       0.87      0.90      0.88     79949\n",
      "\n"
     ]
    }
   ],
   "source": [
    "# Calculate the confusion matrix\n",
    "cm = confusion_matrix(y_test, predictions)\n",
    "cm_df = pd.DataFrame(\n",
    "    cm, index=[\"Actual 0\", \"Actual 1\"], columns=[\"Predicted 0\", \"Predicted 1\"]\n",
    ")\n",
    "\n",
    "# Calculate the accuracy score\n",
    "acc_score = accuracy_score(y_test, predictions)\n",
    "\n",
    "# Display results\n",
    "print(\"Confusion Matrix\")\n",
    "display(cm_df)\n",
    "print(f\"Accuracy Score : {acc_score}\")\n",
    "print(\"Classification Report\")\n",
    "print(classification_report(y_test, predictions))"
   ]
  },
  {
   "cell_type": "code",
   "execution_count": 11,
   "metadata": {
    "colab": {
     "base_uri": "https://localhost:8080/"
    },
    "id": "qF8GSQRb3XPn",
    "outputId": "335b68a0-bcb7-4711-bf7d-ee50f845cd40"
   },
   "outputs": [
    {
     "data": {
      "text/plain": [
       "[(0.3496642554286117, 'BMI'),\n",
       " (0.1121023620680717, 'SleepTime'),\n",
       " (0.07952210220865989, 'PhysicalHealth'),\n",
       " (0.0684491199133936, 'MentalHealth'),\n",
       " (0.02817841210858876, 'Stroke_Yes'),\n",
       " (0.02607677134662993, 'PhysicalActivity_Yes'),\n",
       " (0.025168116609156684, 'DiffWalking_Yes'),\n",
       " (0.02325386933542871, 'Diabetic_Yes'),\n",
       " (0.021921987992176768, 'Asthma_Yes'),\n",
       " (0.02083129863618352, 'Smoking_Yes'),\n",
       " (0.017074111985287365, 'SkinCancer_Yes'),\n",
       " (0.01697994812179069, 'AgeCategory_80 or older'),\n",
       " (0.016408872110133157, 'KidneyDisease_Yes'),\n",
       " (0.014231983095507718, 'GenHealth_Poor'),\n",
       " (0.013404442571370823, 'GenHealth_Fair'),\n",
       " (0.012656658163254607, 'AgeCategory_75-79'),\n",
       " (0.012554118779267926, 'Race_White'),\n",
       " (0.012526484341151351, 'AgeCategory_70-74'),\n",
       " (0.010510990479144916, 'AgeCategory_65-69'),\n",
       " (0.009918788927652853, 'AlcoholDrinking_Yes'),\n",
       " (0.00949069289447484, 'AgeCategory_60-64'),\n",
       " (0.008778605880807762, 'GenHealth_Good'),\n",
       " (0.00860817829719681, 'Sex_Male'),\n",
       " (0.008541335345813708, 'Sex_Female'),\n",
       " (0.007979189444437203, 'Race_Black'),\n",
       " (0.007968238254013951, 'AgeCategory_55-59'),\n",
       " (0.007754660587525541, 'GenHealth_Very good'),\n",
       " (0.007169508559569177, 'Race_Hispanic'),\n",
       " (0.00632032602577799, 'AgeCategory_50-54'),\n",
       " (0.006216255128305237, 'GenHealth_Excellent'),\n",
       " (0.005791730384046499, 'Race_Other'),\n",
       " (0.004648643754349596, 'AgeCategory_45-49'),\n",
       " (0.004108698004863225, 'Race_American Indian/Alaskan Native'),\n",
       " (0.0037562896452717747, 'AgeCategory_40-44'),\n",
       " (0.0030022430670722045, 'AgeCategory_35-39'),\n",
       " (0.002384833625433099, 'Race_Asian'),\n",
       " (0.0023789089548699066, 'AgeCategory_30-34'),\n",
       " (0.0018410998651380902, 'AgeCategory_18-24'),\n",
       " (0.0018258680595704916, 'AgeCategory_25-29')]"
      ]
     },
     "execution_count": 11,
     "metadata": {},
     "output_type": "execute_result"
    }
   ],
   "source": [
    "# Calculate feature importance\n",
    "importances = rf_model.feature_importances_\n",
    "\n",
    "# Sort and display feature importance \n",
    "sorted(zip(rf_model.feature_importances_, X.columns), reverse=True)"
   ]
  },
  {
   "cell_type": "code",
   "execution_count": 12,
   "metadata": {
    "colab": {
     "base_uri": "https://localhost:8080/"
    },
    "id": "CKe40KNQMDgM",
    "outputId": "729c653f-175c-40c1-e095-914c2accb3e8"
   },
   "outputs": [
    {
     "data": {
      "text/plain": [
       "['rf_model.joblib']"
      ]
     },
     "execution_count": 12,
     "metadata": {},
     "output_type": "execute_result"
    }
   ],
   "source": [
    "# model name\n",
    "rf_filename = \"rf_model.joblib\"\n",
    "\n",
    "# save model\n",
    "joblib.dump(rf_model, rf_filename)"
   ]
  },
  {
   "cell_type": "markdown",
   "metadata": {
    "id": "jQdWtqXLm6h8"
   },
   "source": [
    "# Balanced Random Forest Model"
   ]
  },
  {
   "cell_type": "code",
   "execution_count": 13,
   "metadata": {
    "id": "a4_JYCHckpj5"
   },
   "outputs": [],
   "source": [
    "# Create a balanced random forest classifier\n",
    "brf_model = BalancedRandomForestClassifier(n_estimators=300, random_state=42)\n",
    "\n",
    "#Fit the model\n",
    "brf_model.fit(X_train, y_train)\n",
    "\n",
    "# Calculated the balanced accuracy score\n",
    "brf_predictions = brf_model.predict(X_test)"
   ]
  },
  {
   "cell_type": "code",
   "execution_count": 14,
   "metadata": {
    "id": "hxQJSGsllwmg"
   },
   "outputs": [],
   "source": [
    "# Calculate the confusion matrix\n",
    "cm = confusion_matrix(y_test, brf_predictions)\n",
    "cm_df = pd.DataFrame(\n",
    "    cm, index=[\"Actual 0\", \"Actual 1\"], columns=[\"Predicted 0\", \"Predicted 1\"]\n",
    ")\n",
    "\n",
    "# Calculate the accuracy score\n",
    "brf_accuracy_score = balanced_accuracy_score(y_test, brf_predictions)"
   ]
  },
  {
   "cell_type": "code",
   "execution_count": 15,
   "metadata": {
    "colab": {
     "base_uri": "https://localhost:8080/",
     "height": 320
    },
    "id": "wh3StDUZmgQD",
    "outputId": "4c68b2aa-adaa-45e8-d4f7-c6db5611d6c8"
   },
   "outputs": [
    {
     "name": "stdout",
     "output_type": "stream",
     "text": [
      "Confusion Matrix\n"
     ]
    },
    {
     "data": {
      "text/html": [
       "<div>\n",
       "<style scoped>\n",
       "    .dataframe tbody tr th:only-of-type {\n",
       "        vertical-align: middle;\n",
       "    }\n",
       "\n",
       "    .dataframe tbody tr th {\n",
       "        vertical-align: top;\n",
       "    }\n",
       "\n",
       "    .dataframe thead th {\n",
       "        text-align: right;\n",
       "    }\n",
       "</style>\n",
       "<table border=\"1\" class=\"dataframe\">\n",
       "  <thead>\n",
       "    <tr style=\"text-align: right;\">\n",
       "      <th></th>\n",
       "      <th>Predicted 0</th>\n",
       "      <th>Predicted 1</th>\n",
       "    </tr>\n",
       "  </thead>\n",
       "  <tbody>\n",
       "    <tr>\n",
       "      <th>Actual 0</th>\n",
       "      <td>51513</td>\n",
       "      <td>21593</td>\n",
       "    </tr>\n",
       "    <tr>\n",
       "      <th>Actual 1</th>\n",
       "      <td>1405</td>\n",
       "      <td>5438</td>\n",
       "    </tr>\n",
       "  </tbody>\n",
       "</table>\n",
       "</div>"
      ],
      "text/plain": [
       "          Predicted 0  Predicted 1\n",
       "Actual 0        51513        21593\n",
       "Actual 1         1405         5438"
      ]
     },
     "metadata": {},
     "output_type": "display_data"
    },
    {
     "name": "stdout",
     "output_type": "stream",
     "text": [
      "Accuracy Score : 0.7496575310688034\n",
      "Classification Report\n",
      "              precision    recall  f1-score   support\n",
      "\n",
      "           0       0.97      0.70      0.82     73106\n",
      "           1       0.20      0.79      0.32      6843\n",
      "\n",
      "    accuracy                           0.71     79949\n",
      "   macro avg       0.59      0.75      0.57     79949\n",
      "weighted avg       0.91      0.71      0.78     79949\n",
      "\n"
     ]
    }
   ],
   "source": [
    "# Display results\n",
    "print(\"Confusion Matrix\")\n",
    "display(cm_df)\n",
    "print(f\"Accuracy Score : {brf_accuracy_score}\")\n",
    "print(\"Classification Report\")\n",
    "print(classification_report(y_test, brf_predictions))"
   ]
  },
  {
   "cell_type": "code",
   "execution_count": 16,
   "metadata": {
    "colab": {
     "base_uri": "https://localhost:8080/"
    },
    "id": "pnJ4MpLGA3Bc",
    "outputId": "6627bf54-5d2e-4188-8ca6-b6546efceb1c"
   },
   "outputs": [
    {
     "data": {
      "text/plain": [
       "[(0.23951574716186386, 'BMI'),\n",
       " (0.08729214607048648, 'SleepTime'),\n",
       " (0.06754713073279783, 'PhysicalHealth'),\n",
       " (0.05560818605033178, 'MentalHealth'),\n",
       " (0.041671674435726676, 'Diabetic_Yes'),\n",
       " (0.041560363763645226, 'DiffWalking_Yes'),\n",
       " (0.030362881264197537, 'AgeCategory_80 or older'),\n",
       " (0.02859825669470943, 'GenHealth_Excellent'),\n",
       " (0.027770996571649702, 'Stroke_Yes'),\n",
       " (0.025368296872318535, 'Smoking_Yes'),\n",
       " (0.023232227801995756, 'PhysicalActivity_Yes'),\n",
       " (0.020969176672916937, 'AgeCategory_75-79'),\n",
       " (0.020322518454810142, 'GenHealth_Fair'),\n",
       " (0.020022479694021874, 'GenHealth_Very good'),\n",
       " (0.019553603642610818, 'AgeCategory_70-74'),\n",
       " (0.01861798394237326, 'Asthma_Yes'),\n",
       " (0.016605062203696258, 'SkinCancer_Yes'),\n",
       " (0.01447396595036415, 'KidneyDisease_Yes'),\n",
       " (0.014263162618084357, 'AgeCategory_65-69'),\n",
       " (0.01347649809882638, 'GenHealth_Poor'),\n",
       " (0.013463173747706603, 'GenHealth_Good'),\n",
       " (0.01327258848876755, 'Sex_Female'),\n",
       " (0.013031096019136096, 'Sex_Male'),\n",
       " (0.012781345739052279, 'Race_White'),\n",
       " (0.011162941031072819, 'AgeCategory_60-64'),\n",
       " (0.010779627310871683, 'AgeCategory_18-24'),\n",
       " (0.01060168054618161, 'AlcoholDrinking_Yes'),\n",
       " (0.009804385525055928, 'AgeCategory_35-39'),\n",
       " (0.008974101184585704, 'AgeCategory_55-59'),\n",
       " (0.008932853396573544, 'AgeCategory_30-34'),\n",
       " (0.008733585536104158, 'AgeCategory_25-29'),\n",
       " (0.008573453627896225, 'AgeCategory_40-44'),\n",
       " (0.00805387067569169, 'AgeCategory_50-54'),\n",
       " (0.007947922941873709, 'Race_Black'),\n",
       " (0.007717620001293935, 'Race_Hispanic'),\n",
       " (0.007628300017623382, 'AgeCategory_45-49'),\n",
       " (0.005114370150951298, 'Race_Other'),\n",
       " (0.0035331605496317455, 'Race_American Indian/Alaskan Native'),\n",
       " (0.0030615648125032324, 'Race_Asian')]"
      ]
     },
     "execution_count": 16,
     "metadata": {},
     "output_type": "execute_result"
    }
   ],
   "source": [
    "# Calculate feature importance\n",
    "importances = brf_model.feature_importances_\n",
    "\n",
    "# Sort and display feature importance \n",
    "sorted(zip(brf_model.feature_importances_, X.columns), reverse=True)"
   ]
  },
  {
   "cell_type": "code",
   "execution_count": 17,
   "metadata": {
    "id": "49XKrlBHM39c"
   },
   "outputs": [
    {
     "data": {
      "text/plain": [
       "['brf_model.joblib']"
      ]
     },
     "execution_count": 17,
     "metadata": {},
     "output_type": "execute_result"
    }
   ],
   "source": [
    "# model name\n",
    "brf_filename = \"brf_model.joblib\"\n",
    "\n",
    "# save model\n",
    "joblib.dump(brf_model, brf_filename)"
   ]
  },
  {
   "cell_type": "markdown",
   "metadata": {
    "id": "KCg19CEFmsk1"
   },
   "source": [
    "# Resample and use Balanced Random Forest Model"
   ]
  },
  {
   "cell_type": "code",
   "execution_count": 18,
   "metadata": {
    "id": "f4Pgwu-ymybF"
   },
   "outputs": [],
   "source": [
    "# Instantiate the random oversampler model\n",
    "ros = RandomOverSampler(random_state=42)\n",
    "\n",
    "# Fit the original training data to the ROS model\n",
    "X_res, y_res = ros.fit_resample(X_train, y_train)"
   ]
  },
  {
   "cell_type": "code",
   "execution_count": 19,
   "metadata": {
    "id": "WD6NfGz9EtJj"
   },
   "outputs": [],
   "source": [
    "# Create a balanced random forest classifier\n",
    "res_brf_model = BalancedRandomForestClassifier(n_estimators=300, random_state=42, n_jobs = 5)\n",
    "\n",
    "#Fit the model\n",
    "res_brf_model.fit(X_res, y_res)\n",
    "\n",
    "# Calculated the balanced accuracy score\n",
    "res_brf_predictions = res_brf_model.predict(X_test)"
   ]
  },
  {
   "cell_type": "code",
   "execution_count": 20,
   "metadata": {
    "id": "CiNklTwcFtQk"
   },
   "outputs": [],
   "source": [
    "# Calculate the confusion matrix\n",
    "cm = confusion_matrix(y_test, res_brf_predictions)\n",
    "cm_df = pd.DataFrame(\n",
    "    cm, index=[\"Actual 0\", \"Actual 1\"], columns=[\"Predicted 0\", \"Predicted 1\"]\n",
    ")\n",
    "\n",
    "# Calculate the accuracy score\n",
    "res_brf_accuracy_score = balanced_accuracy_score(y_test, res_brf_predictions)"
   ]
  },
  {
   "cell_type": "code",
   "execution_count": 21,
   "metadata": {
    "id": "qEM0LgmKGExZ"
   },
   "outputs": [
    {
     "name": "stdout",
     "output_type": "stream",
     "text": [
      "Confusion Matrix\n"
     ]
    },
    {
     "data": {
      "text/html": [
       "<div>\n",
       "<style scoped>\n",
       "    .dataframe tbody tr th:only-of-type {\n",
       "        vertical-align: middle;\n",
       "    }\n",
       "\n",
       "    .dataframe tbody tr th {\n",
       "        vertical-align: top;\n",
       "    }\n",
       "\n",
       "    .dataframe thead th {\n",
       "        text-align: right;\n",
       "    }\n",
       "</style>\n",
       "<table border=\"1\" class=\"dataframe\">\n",
       "  <thead>\n",
       "    <tr style=\"text-align: right;\">\n",
       "      <th></th>\n",
       "      <th>Predicted 0</th>\n",
       "      <th>Predicted 1</th>\n",
       "    </tr>\n",
       "  </thead>\n",
       "  <tbody>\n",
       "    <tr>\n",
       "      <th>Actual 0</th>\n",
       "      <td>69420</td>\n",
       "      <td>3686</td>\n",
       "    </tr>\n",
       "    <tr>\n",
       "      <th>Actual 1</th>\n",
       "      <td>5326</td>\n",
       "      <td>1517</td>\n",
       "    </tr>\n",
       "  </tbody>\n",
       "</table>\n",
       "</div>"
      ],
      "text/plain": [
       "          Predicted 0  Predicted 1\n",
       "Actual 0        69420         3686\n",
       "Actual 1         5326         1517"
      ]
     },
     "metadata": {},
     "output_type": "display_data"
    },
    {
     "name": "stdout",
     "output_type": "stream",
     "text": [
      "Accuracy Score : 0.5856332283420439\n",
      "Classification Report\n",
      "              precision    recall  f1-score   support\n",
      "\n",
      "           0       0.93      0.95      0.94     73106\n",
      "           1       0.29      0.22      0.25      6843\n",
      "\n",
      "    accuracy                           0.89     79949\n",
      "   macro avg       0.61      0.59      0.60     79949\n",
      "weighted avg       0.87      0.89      0.88     79949\n",
      "\n"
     ]
    }
   ],
   "source": [
    "# Display results\n",
    "print(\"Confusion Matrix\")\n",
    "display(cm_df)\n",
    "print(f\"Accuracy Score : {res_brf_accuracy_score}\")\n",
    "print(\"Classification Report\")\n",
    "print(classification_report(y_test, res_brf_predictions))"
   ]
  },
  {
   "cell_type": "code",
   "execution_count": 22,
   "metadata": {
    "id": "6qEWg7BELdYQ"
   },
   "outputs": [
    {
     "data": {
      "text/plain": [
       "[(0.2748036066973997, 'BMI'),\n",
       " (0.08925302494451429, 'SleepTime'),\n",
       " (0.06796019784303571, 'PhysicalHealth'),\n",
       " (0.05744885318250986, 'MentalHealth'),\n",
       " (0.040948875243876845, 'DiffWalking_Yes'),\n",
       " (0.040142337911176613, 'Diabetic_Yes'),\n",
       " (0.02976597104436228, 'AgeCategory_80 or older'),\n",
       " (0.0281630528248814, 'GenHealth_Excellent'),\n",
       " (0.026922727354183103, 'Stroke_Yes'),\n",
       " (0.022229037742775744, 'Smoking_Yes'),\n",
       " (0.02111908312144576, 'PhysicalActivity_Yes'),\n",
       " (0.019638793081056573, 'AgeCategory_75-79'),\n",
       " (0.018872976099151114, 'GenHealth_Very good'),\n",
       " (0.01851033896906336, 'GenHealth_Fair'),\n",
       " (0.017880324088006088, 'AgeCategory_70-74'),\n",
       " (0.0168079939364921, 'Asthma_Yes'),\n",
       " (0.014231665480985693, 'SkinCancer_Yes'),\n",
       " (0.013032734323353175, 'GenHealth_Poor'),\n",
       " (0.01284888358652288, 'KidneyDisease_Yes'),\n",
       " (0.012628428262664177, 'AgeCategory_65-69'),\n",
       " (0.011752521648392916, 'Sex_Male'),\n",
       " (0.01156952391250512, 'Sex_Female'),\n",
       " (0.011555767883668452, 'GenHealth_Good'),\n",
       " (0.011075350171622027, 'Race_White'),\n",
       " (0.010791542502885533, 'AgeCategory_18-24'),\n",
       " (0.009727580825386044, 'AlcoholDrinking_Yes'),\n",
       " (0.009629503920205382, 'AgeCategory_35-39'),\n",
       " (0.009607162897609031, 'AgeCategory_60-64'),\n",
       " (0.008673644847151999, 'AgeCategory_30-34'),\n",
       " (0.008652712070820662, 'AgeCategory_25-29'),\n",
       " (0.007819808619534307, 'AgeCategory_40-44'),\n",
       " (0.007617905787587356, 'AgeCategory_55-59'),\n",
       " (0.007018951456210674, 'Race_Black'),\n",
       " (0.00692122307915023, 'AgeCategory_50-54'),\n",
       " (0.006873682332164274, 'AgeCategory_45-49'),\n",
       " (0.006831845224184898, 'Race_Hispanic'),\n",
       " (0.004728002064203632, 'Race_Other'),\n",
       " (0.0032005430438687955, 'Race_American Indian/Alaskan Native'),\n",
       " (0.002743821975392273, 'Race_Asian')]"
      ]
     },
     "execution_count": 22,
     "metadata": {},
     "output_type": "execute_result"
    }
   ],
   "source": [
    "# Calculate feature importance\n",
    "importances = res_brf_model.feature_importances_\n",
    "\n",
    "# Sort and display feature importance \n",
    "sorted(zip(res_brf_model.feature_importances_, X.columns), reverse=True)"
   ]
  },
  {
   "cell_type": "code",
   "execution_count": 23,
   "metadata": {
    "id": "hxldY_xnNAhj"
   },
   "outputs": [
    {
     "data": {
      "text/plain": [
       "['res_brf_model.joblib']"
      ]
     },
     "execution_count": 23,
     "metadata": {},
     "output_type": "execute_result"
    }
   ],
   "source": [
    "# model name\n",
    "res_brf_filename = \"res_brf_model.joblib\"\n",
    "\n",
    "# save model\n",
    "joblib.dump(res_brf_model, res_brf_filename)"
   ]
  }
 ],
 "metadata": {
  "colab": {
   "provenance": []
  },
  "kernelspec": {
   "display_name": "Python 3 (ipykernel)",
   "language": "python",
   "name": "python3"
  },
  "language_info": {
   "codemirror_mode": {
    "name": "ipython",
    "version": 3
   },
   "file_extension": ".py",
   "mimetype": "text/x-python",
   "name": "python",
   "nbconvert_exporter": "python",
   "pygments_lexer": "ipython3",
   "version": "3.7.13"
  }
 },
 "nbformat": 4,
 "nbformat_minor": 1
}
